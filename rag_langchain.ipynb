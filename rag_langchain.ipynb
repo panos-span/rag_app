{
 "cells": [
  {
   "cell_type": "code",
   "execution_count": 11,
   "id": "initial_id",
   "metadata": {
    "collapsed": true,
    "ExecuteTime": {
     "end_time": "2024-01-28T17:18:10.852096100Z",
     "start_time": "2024-01-28T17:18:10.847584800Z"
    }
   },
   "outputs": [],
   "source": [
    "from time import time\n",
    "from langchain.document_loaders import TextLoader\n",
    "from langchain.text_splitter import RecursiveCharacterTextSplitter\n",
    "from langchain.chains import RetrievalQA\n",
    "from langchain.vectorstores import Chroma\n",
    "from langchain_community.chat_models import ChatOllama\n",
    "from langchain_community.embeddings import OllamaEmbeddings"
   ]
  },
  {
   "cell_type": "code",
   "outputs": [],
   "source": [
    "llm_model = 'mistral'\n",
    "llm = ChatOllama(model=llm_model, temperature=0.0, device=\"cuda\")"
   ],
   "metadata": {
    "collapsed": false,
    "ExecuteTime": {
     "end_time": "2024-01-28T17:18:10.858736800Z",
     "start_time": "2024-01-28T17:18:10.853096600Z"
    }
   },
   "id": "5af6f187c6902ae0",
   "execution_count": 12
  },
  {
   "cell_type": "code",
   "outputs": [],
   "source": [
    "loader = TextLoader(\"information_systems.txt\",\n",
    "                    encoding=\"utf8\")\n",
    "documents = loader.load()"
   ],
   "metadata": {
    "collapsed": false,
    "ExecuteTime": {
     "end_time": "2024-01-28T17:18:10.861902600Z",
     "start_time": "2024-01-28T17:18:10.856736100Z"
    }
   },
   "id": "dd7d2ac330a70f85",
   "execution_count": 13
  },
  {
   "cell_type": "code",
   "outputs": [],
   "source": [
    "text_splitter = RecursiveCharacterTextSplitter(chunk_size=1000, chunk_overlap=200)\n",
    "all_splits = text_splitter.split_documents(documents)"
   ],
   "metadata": {
    "collapsed": false,
    "ExecuteTime": {
     "end_time": "2024-01-28T17:18:10.873682400Z",
     "start_time": "2024-01-28T17:18:10.860902400Z"
    }
   },
   "id": "a3e61562338cedc0",
   "execution_count": 14
  },
  {
   "cell_type": "code",
   "outputs": [],
   "source": [
    "vectordb =  Chroma.from_documents(documents=all_splits, embedding=OllamaEmbeddings(model=\"mistral\"))"
   ],
   "metadata": {
    "collapsed": false,
    "ExecuteTime": {
     "end_time": "2024-01-28T17:19:24.512302Z",
     "start_time": "2024-01-28T17:18:10.866682100Z"
    }
   },
   "id": "f2e2adda2e7a47e7",
   "execution_count": 15
  },
  {
   "cell_type": "code",
   "outputs": [],
   "source": [
    "retriever = vectordb.as_retriever()\n",
    "\n",
    "qa = RetrievalQA.from_chain_type(\n",
    "    llm=llm, \n",
    "    chain_type=\"stuff\", \n",
    "    retriever=retriever, \n",
    "    verbose=True\n",
    ")"
   ],
   "metadata": {
    "collapsed": false,
    "ExecuteTime": {
     "end_time": "2024-01-28T17:19:24.515564900Z",
     "start_time": "2024-01-28T17:19:24.513301900Z"
    }
   },
   "id": "b0eb7beb14f50105",
   "execution_count": 16
  },
  {
   "cell_type": "code",
   "outputs": [],
   "source": [
    "def test_rag(qa, query):\n",
    "    print(f\"Query: {query}\\n\")\n",
    "    time_1 = time()\n",
    "    result = qa.invoke(query)\n",
    "    time_2 = time()\n",
    "    print(f\"Inference time: {round(time_2-time_1, 3)} sec.\")\n",
    "    print(\"\\nResult: \", result)"
   ],
   "metadata": {
    "collapsed": false,
    "ExecuteTime": {
     "end_time": "2024-01-28T17:19:24.520151Z",
     "start_time": "2024-01-28T17:19:24.515564900Z"
    }
   },
   "id": "1c1adf58cab87702",
   "execution_count": 17
  },
  {
   "cell_type": "code",
   "outputs": [
    {
     "name": "stdout",
     "output_type": "stream",
     "text": [
      "Query: How Group Support Systems (GSS) significantly influence organisational dynamics?\n",
      "\n",
      "\n",
      "\n",
      "\u001B[1m> Entering new RetrievalQA chain...\u001B[0m\n",
      "\n",
      "\u001B[1m> Finished chain.\u001B[0m\n",
      "Inference time: 23.97 sec.\n",
      "\n",
      "Result:  {'query': 'How Group Support Systems (GSS) significantly influence organisational dynamics?', 'result': \" The context provided discusses how IT in general extends an organization's reach beyond traditional boundaries and plays a strategic role in external interactions, enabling easier and quicker task performance for employees. It also mentions a model suggesting that organizations go through a life cycle influenced by the use of IT, alternating between decentralized market-based and centralized hierarchical structures. However, the context does not directly answer how Group Support Systems (GSS) specifically influence organizational dynamics.\\n\\nTo provide an accurate answer, it would be helpful to have more information about the nature and specific role of GSS within an organization's IT infrastructure and how they contribute to the dynamic impact on organizational structure as described in the model. Without this additional context, it is not possible to definitively answer the question.\"}\n"
     ]
    }
   ],
   "source": [
    "query = \"How Group Support Systems (GSS) significantly influence organisational dynamics?\"\n",
    "test_rag(qa, query)"
   ],
   "metadata": {
    "collapsed": false,
    "ExecuteTime": {
     "end_time": "2024-01-28T17:21:09.491430Z",
     "start_time": "2024-01-28T17:20:45.519678300Z"
    }
   },
   "id": "b47ff99b7b98ed70",
   "execution_count": 19
  },
  {
   "cell_type": "code",
   "outputs": [],
   "source": [],
   "metadata": {
    "collapsed": false,
    "ExecuteTime": {
     "end_time": "2024-01-28T17:19:53.927771500Z",
     "start_time": "2024-01-28T17:19:53.925259400Z"
    }
   },
   "id": "6f8498eb7efcbde1",
   "execution_count": 18
  }
 ],
 "metadata": {
  "kernelspec": {
   "display_name": "Python 3",
   "language": "python",
   "name": "python3"
  },
  "language_info": {
   "codemirror_mode": {
    "name": "ipython",
    "version": 2
   },
   "file_extension": ".py",
   "mimetype": "text/x-python",
   "name": "python",
   "nbconvert_exporter": "python",
   "pygments_lexer": "ipython2",
   "version": "2.7.6"
  }
 },
 "nbformat": 4,
 "nbformat_minor": 5
}
