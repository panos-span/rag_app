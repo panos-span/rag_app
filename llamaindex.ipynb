{
 "cells": [
  {
   "cell_type": "code",
   "execution_count": 22,
   "id": "initial_id",
   "metadata": {
    "collapsed": true,
    "ExecuteTime": {
     "end_time": "2024-01-28T16:39:49.684746600Z",
     "start_time": "2024-01-28T16:39:49.677226200Z"
    }
   },
   "outputs": [],
   "source": [
    "from llama_index.llms import Ollama\n",
    "from llama_index.embeddings import OllamaEmbedding"
   ]
  },
  {
   "cell_type": "code",
   "outputs": [],
   "source": [
    "llm_model = 'mistral'\n",
    "llm = Ollama(model=llm_model, temperature=0.0)"
   ],
   "metadata": {
    "collapsed": false,
    "ExecuteTime": {
     "end_time": "2024-01-28T16:39:49.686745400Z",
     "start_time": "2024-01-28T16:39:49.680225900Z"
    }
   },
   "id": "e83e2c597f18aeb5",
   "execution_count": 23
  },
  {
   "cell_type": "code",
   "outputs": [],
   "source": [
    "from llama_index import SimpleDirectoryReader\n",
    "\n",
    "documents = SimpleDirectoryReader(\n",
    "    input_files=[\"./Sna_Youtube_Final_2.pdf\"]\n",
    ").load_data()"
   ],
   "metadata": {
    "collapsed": false,
    "ExecuteTime": {
     "end_time": "2024-01-28T16:39:50.863031Z",
     "start_time": "2024-01-28T16:39:49.685744900Z"
    }
   },
   "id": "8251786ead121ff5",
   "execution_count": 24
  },
  {
   "cell_type": "code",
   "outputs": [],
   "source": [
    "from llama_index import Document\n",
    "\n",
    "document = Document(text=\"\\n\\n\".join([doc.text for doc in documents]))"
   ],
   "metadata": {
    "collapsed": false,
    "ExecuteTime": {
     "end_time": "2024-01-28T16:39:50.866194Z",
     "start_time": "2024-01-28T16:39:50.864030Z"
    }
   },
   "id": "ded29ed429da799a",
   "execution_count": 25
  },
  {
   "cell_type": "code",
   "outputs": [],
   "source": [
    "from llama_index import VectorStoreIndex\n",
    "from llama_index import ServiceContext\n",
    "\n",
    "service_context = ServiceContext.from_defaults(\n",
    "    llm=llm, embed_model=OllamaEmbedding(llm_model),\n",
    ")\n",
    "index = VectorStoreIndex.from_documents([document],\n",
    "                                        service_context=service_context)"
   ],
   "metadata": {
    "collapsed": false,
    "ExecuteTime": {
     "end_time": "2024-01-28T16:42:08.564165500Z",
     "start_time": "2024-01-28T16:39:50.866194Z"
    }
   },
   "id": "1d05bbaa28b3f123",
   "execution_count": 26
  },
  {
   "cell_type": "code",
   "outputs": [],
   "source": [
    "query_engine = index.as_query_engine()"
   ],
   "metadata": {
    "collapsed": false,
    "ExecuteTime": {
     "end_time": "2024-01-28T16:42:08.571100200Z",
     "start_time": "2024-01-28T16:42:08.565164800Z"
    }
   },
   "id": "b56d878ffdaeaddd",
   "execution_count": 27
  },
  {
   "cell_type": "code",
   "outputs": [
    {
     "name": "stdout",
     "output_type": "stream",
     "text": [
      " The goal of the study appears to be an analysis of the Bioneer YouTube channel network using various centrality measures, clustering effects, and component measures. These metrics provide insights into the network's structure, connectivity, and influential nodes, helping to understand the role and position of the Bioneer channel within the larger YouTube content creation landscape.\n"
     ]
    }
   ],
   "source": [
    "response = query_engine.query(\n",
    "    \"What is the goal of the study?\"\n",
    ")\n",
    "print(str(response))"
   ],
   "metadata": {
    "collapsed": false,
    "ExecuteTime": {
     "end_time": "2024-01-28T16:42:29.833359300Z",
     "start_time": "2024-01-28T16:42:08.569100Z"
    }
   },
   "id": "2d78e914fa4bba06",
   "execution_count": 28
  },
  {
   "cell_type": "code",
   "outputs": [
    {
     "data": {
      "text/plain": "Response(response=' Betweenness centrality is a measure of the amount of influence a node has over the flow of information between other nodes in a network. It quantifies the number of shortest paths between pairs of nodes that pass through a given node, indicating its strategic position in the network. Nodes with high betweenness centrality act as bridges or connectors between different parts of the network and can potentially control the spread of information within it.', source_nodes=[NodeWithScore(node=TextNode(id_='c5247578-c598-4f95-87f9-2f2b7040369c', embedding=None, metadata={}, excluded_embed_metadata_keys=[], excluded_llm_metadata_keys=[], relationships={<NodeRelationship.SOURCE: '1'>: RelatedNodeInfo(node_id='40b01aad-3216-436a-aad0-470f7a02e774', node_type=<ObjectType.DOCUMENT: '4'>, metadata={}, hash='9a899248ff27340b5ebe495557ac420705fd32a7207cd60d8e50eaa3ed8ecc79'), <NodeRelationship.PREVIOUS: '2'>: RelatedNodeInfo(node_id='b93f0a56-b1e8-4978-9f94-5a1973c3979b', node_type=<ObjectType.TEXT: '1'>, metadata={}, hash='c3ce6193d5aacc7fe404dd685d8c0422bb18e5409baebb983cb8d34e5218b05a'), <NodeRelationship.NEXT: '3'>: RelatedNodeInfo(node_id='1f49e04a-1e41-4828-bf07-c7ae31f54e8c', node_type=<ObjectType.TEXT: '1'>, metadata={}, hash='b93457e4c825432b5035b27e1b05e896a00d865c5106e009c5f2bbd1b89e84da')}, text=\"They provide a framework for \\nunderstanding how the channel fits within the larger narrative of the YouTube content \\ncreation landscape.  \\n \\n\\n3. Component Measures  \\nThe structural integrity and cohesiveness of the Bioneer YouTube channel \\nnetwork are illuminated by its component measures, which have been calculated using \\nboth Gephi and NetworkX. The network is characterized by a single connected \\ncomponent, as evidenced  by the fact that there is only one weakly connected \\ncomponent. This suggests a high degree of interconnectedness within the network, with \\nno isolated clusters of channels standing apart from the rest.  \\nFurther analysis using Gephi reveals that within this unified structure, there are \\n183 strongly connected components  and only one weakly connected component . \\nStrongly connected components are subnetworks where there is a path in each direction \\nbetween each pair of nodes. The presence of numerous strongly connected components \\nwithin a single weakly connected component indicates that while every channel can be \\nreached from every other channel (hence the singular weakly connected component), \\nthe network has man y subsets of channels that have more robust two -way interaction.  \\nNetworkX computations shed light on the size of the giant component, which \\nencompasses all 221 nodes in the network. This dominance of one giant component is \\nindicative of a ' small world ' network, where the majority of nodes are not just connected \\nbut are part of a single, extensive web of connections. The size distribution chart from \\nGephi, which spikes at count 221, corroborates this, showing that all nodes in the \\nnetwork are part of th is giant component, and there are no smaller, isolated components.  \\n \\n  \\n \\n \\n\\n\\nHere are also how calculations  were done  using the Network x library through \\npython:  \\n \\nThe existence of a single, all -encompassing giant component is a testament to \\nthe network's robustness. It is reflective of a vibrant, interconnected community where \\ninformation, influence, and content can disseminate freely and efficiently across the \\nentire network. This structural characteristic is particularly beneficial for the central \\nchannel, Bioneer, as it implies a potential for wide reach and significant impact within \\nthe network. The network's architecture, thus, not only facilitates but also poss ibly \\namplifies the channel's visibility and engagement across the YouTube platform.\", start_char_idx=18668, end_char_idx=21115, text_template='{metadata_str}\\n\\n{content}', metadata_template='{key}: {value}', metadata_seperator='\\n'), score=0.4317182979719755), NodeWithScore(node=TextNode(id_='efacceef-733b-432b-bd92-e2538bb983d9', embedding=None, metadata={}, excluded_embed_metadata_keys=[], excluded_llm_metadata_keys=[], relationships={<NodeRelationship.SOURCE: '1'>: RelatedNodeInfo(node_id='40b01aad-3216-436a-aad0-470f7a02e774', node_type=<ObjectType.DOCUMENT: '4'>, metadata={}, hash='9a899248ff27340b5ebe495557ac420705fd32a7207cd60d8e50eaa3ed8ecc79'), <NodeRelationship.PREVIOUS: '2'>: RelatedNodeInfo(node_id='ef026ee3-96bc-4fee-b33c-ead2fbefb94c', node_type=<ObjectType.TEXT: '1'>, metadata={}, hash='5f1df33e592d8367d284c13a6652b2a95bd5151f8c2682ecc468bca3663d2f2e'), <NodeRelationship.NEXT: '3'>: RelatedNodeInfo(node_id='1d057225-6fd4-4e03-ac22-77952ce2d0ac', node_type=<ObjectType.TEXT: '1'>, metadata={}, hash='fefd461df32d566f864980b2e9e75bfc7dd0ff757af0d7ffd4e6f27770945318')}, text=\"of the most central community but are influential  within their sub -communities or \\nclusters.  \\nNoteworthy to mention is that  Vsauce, Numberphile and Jeff Nippard strike a \\nbalance between reach, influence, and strategic positioning. Their prominence in \\ncloseness and eigenvector centrality, despite medium degree and betweenness \\ncentrality  measures , suggests they have optimized their network position not just for \\nmaximal direct influence, but for quality and strategic connectivity that enhances their \\noverall standing in the network.  They are important players, but not the sole or primary \\nconduits of inf ormation and influence, which provides a more distributed structure to \\nthe network's connectivity and influence landscape.  \\nThe Bioneer channel, despite its vital role  as indicated by the first two  centrality \\nmeasures, has a lower eigenvector centrality score of 0.03536. This suggests that while \\nthe Bioneer is highly connected, its direct connections may not be to other highly central \\nnodes within the network, which influences its eigenvector score.  \\nIn summary, the eigenvector centrality scores reflect not just the presence of \\nconnections but the quality of those connections in terms of network influence. \\nChannels with high eigenvector centrality are crucial in shaping the network's \\ninformation flow, and their influence is amplified by the centrality of the channels they \\nare connected to. These scores highlight a tiered structure within the network, with a \\ncore of highly influential channels surrounded by nodes with varying levels of \\ninfluence.  \\n \\n \\n \\n \\n \\n \\n \\n \\n \\n \\n \\n \\n\\n6. Clustering  Effects  \\n \\n6.1 Average Clustering Coefficient  \\nThe clustering coefficient for a node is calculated based on directed triangles \\nthat the node participates in. These are connections where two other nodes that a given \\nnode points to also have a directed connection to each other.  The average clustering \\ncoefficient according to the Watts –Strogatz model is the mean value of the local \\nclustering coefficients of all the nodes in the network  and provides insight into the local \\ninterconnectedness of nodes, revealing potential substructures and indicating the degr ee \\nto which the network fosters reciprocal relationships among its constituents.  \\nFor the Bioneer YouTube channel network, an average clustering coefficient of \\n0.256  calculated from Gephi and from networkX (0.258) , suggests a moderate level of \\nclustering.  This value indicates that while there is some tendency for channels to form \\ntightly knit groups, where one channel subscribed to two others could mean those two \\nare likely subscribed to each other, it is not an overwhelmingly prevalent feature of the \\nnetwo rk. It is indicative of a network that balances between a web of interconnected \\ncommunities and more radial structures where a central node connects otherwise \\nunconnected nodes.  It also means that some subgroups within the network are \\ninteracting more closely, which can lead to more efficient communication and \\ncollaboration within those groups. This can be beneficial for targeted content strategies \\nor advertising  and for content creators and network strategists, a clustering coefficient \\nof this level suggests that there is room to build stronger community ties. \\n6.2 Clustering Coefficient Distribution  \\n The clustering coefficient distribution of the Bioneer YouTube channel \\nnetwork, depicted in the provided histogram generated using matplotlib, offers insight \\ninto the local connectivity of the network.  The use of python in this step was necessary, \\nbecause Gephi  does not provide a proper function  to display  this distribution  \\ngraphically . The distribution of clustering coefficients among the nodes presents a \\nmulti -modal distribution, with spikes at 0 and a notable peak around 0.5, and then less \\nfrequent occu rrences of higher clustering coefficients trailing off towards 0.7.\", start_char_idx=48623, end_char_idx=52564, text_template='{metadata_str}\\n\\n{content}', metadata_template='{key}: {value}', metadata_seperator='\\n'), score=0.4241883156026789)], metadata={'c5247578-c598-4f95-87f9-2f2b7040369c': {}, 'efacceef-733b-432b-bd92-e2538bb983d9': {}})"
     },
     "execution_count": 29,
     "metadata": {},
     "output_type": "execute_result"
    }
   ],
   "source": [
    "query_engine.query(\"What is the betweeness centrality?\")"
   ],
   "metadata": {
    "collapsed": false,
    "ExecuteTime": {
     "end_time": "2024-01-28T16:42:53.101403Z",
     "start_time": "2024-01-28T16:42:29.831358300Z"
    }
   },
   "id": "3cf93097945b3732",
   "execution_count": 29
  }
 ],
 "metadata": {
  "kernelspec": {
   "display_name": "Python 3",
   "language": "python",
   "name": "python3"
  },
  "language_info": {
   "codemirror_mode": {
    "name": "ipython",
    "version": 2
   },
   "file_extension": ".py",
   "mimetype": "text/x-python",
   "name": "python",
   "nbconvert_exporter": "python",
   "pygments_lexer": "ipython2",
   "version": "2.7.6"
  }
 },
 "nbformat": 4,
 "nbformat_minor": 5
}
